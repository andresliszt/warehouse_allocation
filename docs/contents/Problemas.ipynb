{
 "cells": [
  {
   "cell_type": "markdown",
   "id": "4fb9b350",
   "metadata": {},
   "source": [
    "# Problemas\n",
    "\n",
    "\n",
    "En ``warehouse_allocation`` se han definido diferentes problemas relativas al problemas de slotting. Cada problema es un clase que hereda de [Problem](https://pymoo.org/interface/problem.html), que es una clase abstracta en ``pymoo`` que define la estructura para poder entregar un problema *user-defined* a un solver.\n",
    "\n",
    "Un problema básicamente define la función objetivo, y las restricciones del problema de optimización.  Hemos considera el problema de slotting en las siguientes versiones\n",
    "\n",
    "\n",
    "## Representación poblacional\n",
    "\n",
    "En ``pymoo`` la población es representada como una matriz, donde cada fila es un individuo y cada columna es una variable. En ``warehouse_allocation`` la conveción es llamar $X_{\\text{pop}}$ o $X$ a dicha matriz. En nuestro problema, cada fila de la matriz representa un slotting **en su representación vectorial**. Si $Q$ es la cantidad de SKUs a alocar y $C$ es la cantidad de clusters (pensar en pasillos) donde se van a alocar los SKUs, un slotting es un vector $x\\in \\mathbb{R}^{QC}$ binario. Dado un SKU $j$, los valores $x[kj]$ con $k = 1,..., C$ nos informan en que clusters está alocado si el valor es $1$. \n",
    "\n",
    "Los algoritmos genéticos trabajan con un tamaño poblacional fijo $N$, en ese caso se tiene que $X_{\\text{pop}}\\in \\mathbb{M}\\{0,1\\}_{N, QC}$, donde $\\mathbb{M}\\{0,1\\}_{N, QC}$ son las matrices binarias de $N$ filas y $QC$ columnas.\n",
    "\n",
    "\n",
    "Dado un indivudo de la población (slotting), consideramos usualmente su **representación matricial**, que consiste en una matriz $\\mathbb{M}\\{0,1\\}_{C, Q}$, es decir, cada fila es un cluster y cada columna un SKU\n",
    "\n",
    "\n"
   ]
  },
  {
   "cell_type": "markdown",
   "id": "fd12762d",
   "metadata": {},
   "source": [
    "## Problemas (API)"
   ]
  },
  {
   "cell_type": "code",
   "execution_count": 1,
   "id": "528421cc",
   "metadata": {},
   "outputs": [],
   "source": [
    "import numpy as np\n",
    "\n",
    "from warehouse_allocation.models.chung_not_constraints import (\n",
    "    ChungProblem,\n",
    "    ChungProblemStrictlyWeighted,\n",
    "    ChungProblemWithDivisions,\n",
    "    ChungProblemWithDivisionsPlusWeight\n",
    ")\n",
    "    \n",
    "# Demanda de cada uno de los skus\n",
    "D = np.array([10,10,10])\n",
    "\n",
    "# Capacidad de los clusters\n",
    "Z = np.array([2,2])\n",
    "\n",
    "# Matriz de afinidad (En este ejemplo todos los skus aparecieron en 5 ordenes simultáneamente)\n",
    "OCM = np.array([[0, 5, 5], [5,0,5], [5, 5, 0]])\n",
    "\n",
    "# Vector de pesos, cada peso corresponde a un SKU dada la indexación\n",
    "W = np.array([5,5,10])\n",
    "\n",
    "# Matriz de tolerancia de pesos, cada fila es la tolerancia de un cluster\n",
    "# la primera columna es el peso mínimo que soporta, y la segunda el máximo\n",
    "WT = np.array([[2,10], [0,8]])\n",
    "\n",
    "# Problema de Chung original bi objetivo\n",
    "problem_original = ChungProblem(D = D, Z = Z, OCM = OCM)\n",
    "\n",
    "# Problema de Chung con clusters que permiten skus de acuerdo a peso.\n",
    "# Es un problema de peso estricto al incorporar los pesos como una constraint\n",
    "problem_strictly_weighted = ChungProblemStrictlyWeighted(D = D, Z = Z, OCM = OCM , W = W, WT = WT)"
   ]
  },
  {
   "cell_type": "code",
   "execution_count": 2,
   "id": "df9a684e",
   "metadata": {},
   "outputs": [],
   "source": [
    "# Clasificación de rotación/división de cada uno de los skus\n",
    "# Hay dos skus de clasificación 0 y uno de 1\n",
    "DIV_TYPES = np.array([0,1,1])\n",
    "\n",
    "# Matriz de capacidad de los clusters considerando rotación\n",
    "# Cada fila corresponde a un cluster y cada columna j es la cantidad\n",
    "# de skus del tipo de división j que admite\n",
    "# Notar que la cantidad de columnas debe coincidir con la cantidad\n",
    "# de registros únicos de DIV_TYPES\n",
    "Z_ROT = np.array([[2,1], [1,2]])\n",
    "\n",
    "# problema de Chung con restricciones de rotación\n",
    "problem_division = ChungProblemWithDivisions(D = D, Z = Z_ROT, OCM = OCM, division_types = DIV_TYPES)\n",
    "\n",
    "# problema de Chung con restricciones de rotación + peso\n",
    "problem_division_plus_weight = ChungProblemWithDivisionsPlusWeight(D = D, Z = Z_ROT, W = W, WT = WT, OCM = OCM, division_types = DIV_TYPES)\n",
    "    "
   ]
  },
  {
   "cell_type": "code",
   "execution_count": 3,
   "id": "d82d924d",
   "metadata": {},
   "outputs": [
    {
     "name": "stdout",
     "output_type": "stream",
     "text": [
      "Objetivo de afinidad: [ -5 -15] \n",
      "Objetivo de tráfico [20 30]\n"
     ]
    }
   ],
   "source": [
    "# Población con 2 individuos (slottings)\n",
    "X_pop = np.array([[1,0,1,0,1,0],[1,1,1,0,0,0]])\n",
    "\n",
    "print(f\"Objetivo de afinidad: {problem_original.Q(X_pop)}\", f\"\\nObjetivo de tráfico {problem_original.W_max_pop(X_pop)}\")"
   ]
  },
  {
   "cell_type": "markdown",
   "id": "34af779a",
   "metadata": {},
   "source": [
    "Adicionalmente cada uno define el método ``constraints``"
   ]
  },
  {
   "cell_type": "code",
   "execution_count": 4,
   "id": "24987604",
   "metadata": {},
   "outputs": [
    {
     "data": {
      "text/plain": [
       "array([[ 0. , -1. , -0.1, -0.1, -0.1],\n",
       "       [ 1. , -2. , -0.1, -0.1, -0.1]])"
      ]
     },
     "execution_count": 4,
     "metadata": {},
     "output_type": "execute_result"
    }
   ],
   "source": [
    "problem_original.constraints(X_pop)"
   ]
  },
  {
   "cell_type": "code",
   "execution_count": 5,
   "id": "e28c8afe",
   "metadata": {},
   "outputs": [
    {
     "data": {
      "text/plain": [
       "array([[ 0. , -1. , -0.1, -0.1, -0.1, -0.1, -0.1, -0.1],\n",
       "       [ 1. , -2. , -0.1, -0.1, -0.1, -0.1, -0.1, -0.1]])"
      ]
     },
     "execution_count": 5,
     "metadata": {},
     "output_type": "execute_result"
    }
   ],
   "source": [
    "problem_strictly_weighted.constraints(X_pop)"
   ]
  },
  {
   "cell_type": "code",
   "execution_count": 6,
   "id": "3d04d774",
   "metadata": {},
   "outputs": [
    {
     "data": {
      "text/plain": [
       "array([[-1. , -1. ,  0. , -1. , -0.1, -0.1, -0.1],\n",
       "       [-1. , -1. ,  1. , -2. , -0.1, -0.1, -0.1]])"
      ]
     },
     "execution_count": 6,
     "metadata": {},
     "output_type": "execute_result"
    }
   ],
   "source": [
    "problem_division.constraints(X_pop)"
   ]
  },
  {
   "cell_type": "code",
   "execution_count": 7,
   "id": "3fe08492",
   "metadata": {},
   "outputs": [
    {
     "data": {
      "text/plain": [
       "array([[-1. , -1. ,  0. , -1. , -0.1, -0.1, -0.1, -0.1, -0.1, -0.1],\n",
       "       [-1. , -1. ,  1. , -2. , -0.1, -0.1, -0.1, -0.1, -0.1, -0.1]])"
      ]
     },
     "execution_count": 7,
     "metadata": {},
     "output_type": "execute_result"
    }
   ],
   "source": [
    "problem_division_plus_weight.constraints(X_pop)"
   ]
  },
  {
   "cell_type": "markdown",
   "id": "ad302578",
   "metadata": {},
   "source": [
    "## Validaciones sobre los parámetros\n",
    "\n",
    "Es importante el correcto uso de los problemas definidos anteriormente, para ello es responsabilidad del usuario preocuparse por la indexación y el significado de los parámetros que ingresa como input.\n",
    "\n",
    "Se han definido validadores básicos que tienen que ver con la dimensión de los parámetros, por ejemplo, si el vector ``Z``, tiene ``len(Z) = 2`` y el vector ``len(WT) = 3``, se arrojará error\n",
    "\n"
   ]
  },
  {
   "cell_type": "markdown",
   "id": "c1daf346",
   "metadata": {},
   "source": [
    "Otro ejemplo, es la matriz de afinidad ``OCM``. Esta matriz es simétrica, y para efectos del problema de optimización solo es necesaria la parte triangular superior, los problemas internamente triangulizan la matriz"
   ]
  },
  {
   "cell_type": "code",
   "execution_count": null,
   "id": "d36ecfeb",
   "metadata": {},
   "outputs": [],
   "source": [
    "wrong_problem =  ChungProblemStrictlyWeighted(\n",
    "                    D = D, \n",
    "                    Z = Z, \n",
    "                    OCM = OCM , \n",
    "                    W = W, \n",
    "                    WT = np.array([[2,10], [0,8], [0,2]])\n",
    "                 )"
   ]
  },
  {
   "cell_type": "code",
   "execution_count": 8,
   "id": "ee9d704a",
   "metadata": {},
   "outputs": [
    {
     "data": {
      "text/plain": [
       "array([[0, 5, 5],\n",
       "       [0, 0, 5],\n",
       "       [0, 0, 0]])"
      ]
     },
     "execution_count": 8,
     "metadata": {},
     "output_type": "execute_result"
    }
   ],
   "source": [
    "# Matriz triangular\n",
    "problem_strictly_weighted.OCM"
   ]
  },
  {
   "cell_type": "markdown",
   "id": "8213ba86",
   "metadata": {},
   "source": [
    "Si ``OCM`` no es simétrica, triangular superior o inferior, se arrojará error"
   ]
  },
  {
   "cell_type": "code",
   "execution_count": null,
   "id": "55cb5646",
   "metadata": {},
   "outputs": [],
   "source": [
    "# OCM no simetrica\n",
    "wrong_problem =  ChungProblemStrictlyWeighted(\n",
    "                    D = D, \n",
    "                    Z = Z, \n",
    "                    OCM = np.array([[0,10,10], [0,0,10], [10,10,0]]) , \n",
    "                    W = W, \n",
    "                    WT = np.array([[2,10], [0,8], [0,2]])\n",
    "                )"
   ]
  },
  {
   "cell_type": "markdown",
   "id": "1f4b1934",
   "metadata": {},
   "source": [
    "Hay múltiples validadores de consistencia de los parámetros, pero la responsbilidad final es de quién usa este proyecto."
   ]
  }
 ],
 "metadata": {
  "kernelspec": {
   "display_name": "Python 3 (ipykernel)",
   "language": "python",
   "name": "python3"
  },
  "language_info": {
   "codemirror_mode": {
    "name": "ipython",
    "version": 3
   },
   "file_extension": ".py",
   "mimetype": "text/x-python",
   "name": "python",
   "nbconvert_exporter": "python",
   "pygments_lexer": "ipython3",
   "version": "3.9.7"
  }
 },
 "nbformat": 4,
 "nbformat_minor": 5
}
