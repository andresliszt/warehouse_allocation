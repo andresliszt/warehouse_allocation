{
 "cells": [
  {
   "cell_type": "markdown",
   "id": "9ba693f7",
   "metadata": {},
   "source": [
    "# Solvers\n",
    "\n",
    "El paquete ``warehouse_allocation`` soporta resolver el problema de Chung  <cite data-cite=\"2019:chung\"> Chung </cite> adicionando restricciones propias como las de pesos por clusters o divisiones.\n",
    "\n",
    "A continuación se muestra como resolver el problema usando data sintética."
   ]
  },
  {
   "cell_type": "code",
   "execution_count": 1,
   "id": "cfee0099",
   "metadata": {},
   "outputs": [
    {
     "data": {
      "text/plain": [
       "dict_keys(['D', 'Z', 'W', 'WT', 'OCM', 'division_types', 'Z_DIV'])"
      ]
     },
     "execution_count": 1,
     "metadata": {},
     "output_type": "execute_result"
    }
   ],
   "source": [
    "import pickle\n",
    "\n",
    "# Cargamos data de ejemplo\n",
    "with open(\"data\", \"rb\") as ip:\n",
    "    example_data = pickle.load(ip)\n",
    "\n",
    "example_data.keys()"
   ]
  },
  {
   "cell_type": "markdown",
   "id": "ba1629db",
   "metadata": {},
   "source": [
    "``èxample_data`` es un diccionario con parámetros reales, donde ``D`` corresponde al vector de demandas, `Z` la capacidad de los cluters, `W` el vector de pesos, `WT` es la tolerancia de los clusters seteada, `OCM` es la matriz de afinidad, `Z_DIV` corresponde la capacidad de los clusters considerando divisiones/rotaciones y `division_types` corresponde al valor de división/rotación de cada sku."
   ]
  },
  {
   "cell_type": "code",
   "execution_count": 2,
   "id": "98a99b2b",
   "metadata": {},
   "outputs": [
    {
     "name": "stdout",
     "output_type": "stream",
     "text": [
      "[   8   10    2    4    4    9  144   97    5   41  114  223   52  305\n",
      "    1    5    4    4  389  139  696    2  190  257  260  194  333  349\n",
      "  144    4  354  147  122   96  107  191  205  201  234   60   55  226\n",
      "  397  143    9  113  120  904 1568 1011  157 1027 1360  995    1  134\n",
      "   15    9   57   98  108   73   35   35  109  102   23   11   28  227\n",
      "   27  963 1362  102  100  232  177   13  277  255   46   26  322   18\n",
      "   12  107  794  350  526  467  118   62  254  247  418  219  234  179\n",
      "   44  410   26  398  139  419 1156  195  163  504   40  358   89  686\n",
      "  529  683  238 1051  121 1108  281  224  923  598   11  250   17  319\n",
      "  104  172  155  150   26   26  124    7 1258  957  284  553   71  132\n",
      "  102  102  147  121   67  150  100    8   34   82  176  230   42    6\n",
      "  365  134   15  461   98  882  198  445  306  176  264   37    8  163\n",
      "   25   30   36   19  843  394  358 1319    1    9  506  141   41  337\n",
      "   87  412  338  201  660  403  320  402  249  174  605  221   89  132\n",
      "   14   12    3    9    6    9   85   86  148  217  175   16   10    1\n",
      "   45  142  280   73   25  128  107   11   34    7   20    4   37    2\n",
      "  170   78  280   74   38  635   63  428  447  371   47   53   46   56\n",
      "   43   42   52   41   29   45   35   34  177   15  185   29   35   32\n",
      "   28   76   79  332  107   17  750  284  604  239  392  326  375   17\n",
      "   74  276  293   35  135  233  213  383  240   10  148  226   62  121\n",
      "  136  148  536   75  137  116   27  182  188  285   93   66  228  176\n",
      "  240  136   58  114   53   87   32   32   38   34   34   46   39  116]\n"
     ]
    }
   ],
   "source": [
    "# Demanda de los skus\n",
    "print(example_data[\"D\"])"
   ]
  },
  {
   "cell_type": "code",
   "execution_count": 3,
   "id": "37ba7dec",
   "metadata": {},
   "outputs": [
    {
     "name": "stdout",
     "output_type": "stream",
     "text": [
      "[45, 45, 45, 45, 45, 45, 45]\n"
     ]
    }
   ],
   "source": [
    "# Capacidad de los clusters\n",
    "print(example_data[\"Z\"])"
   ]
  },
  {
   "cell_type": "code",
   "execution_count": 4,
   "id": "d1d5bce1",
   "metadata": {},
   "outputs": [
    {
     "name": "stdout",
     "output_type": "stream",
     "text": [
      "[[ 0.  3.  0. ...  0.  2.  1.]\n",
      " [ 3.  0.  0. ...  2.  0.  2.]\n",
      " [ 0.  0.  0. ...  0.  0.  0.]\n",
      " ...\n",
      " [ 0.  2.  0. ...  0.  7. 13.]\n",
      " [ 2.  0.  0. ...  7.  0. 12.]\n",
      " [ 1.  2.  0. ... 13. 12.  0.]]\n"
     ]
    }
   ],
   "source": [
    "# Matriz de afinidad\n",
    "print(example_data[\"OCM\"])"
   ]
  },
  {
   "cell_type": "code",
   "execution_count": 5,
   "id": "847757f9",
   "metadata": {},
   "outputs": [
    {
     "name": "stdout",
     "output_type": "stream",
     "text": [
      "[10.3   10.3   10.4   10.2    8.04   7.12  18.28  18.293 18.252 10.5\n",
      " 18.32  18.36  18.293 18.44  10.    10.    18.34  15.905 15.1    2.69\n",
      " 14.94  15.08  17.56  10.3   18.3    6.1   10.2   18.2   10.3   18.28\n",
      " 10.32  10.2   10.2   18.252  8.1    9.3    9.2    6.     6.     5.98\n",
      "  9.2    9.2   15.    15.12  18.293  1.033 18.293  1.02   1.17   1.15\n",
      "  1.02   1.1    1.3    1.3    9.18   1.45   3.2    9.9    9.24   8.18\n",
      "  1.02   0.84   1.16   2.16   2.088  2.088  0.72   0.84   4.87   6.56\n",
      "  1.9    1.16   1.16  18.34  17.56  15.     9.12   9.16   5.93   5.93\n",
      "  0.51   1.98  18.108  1.98  18.    15.121  1.7    2.     2.3    2.3\n",
      "  9.16  10.8    4.26   4.26   4.26   4.2    4.26  18.34  18.256  1.1\n",
      "  1.1    1.27   1.     2.6    9.04   9.38   8.     2.6    2.88   1.7\n",
      " 24.29   2.9    0.98   2.     1.62   2.48   2.15   9.02   2.2    1.6\n",
      "  1.6   10.05   8.5    1.2    2.5    5.68   5.68   5.68   4.08   4.08\n",
      "  4.08  18.18   8.     8.     1.365  1.3    7.93   7.93   1.44   1.46\n",
      "  1.45  18.    12.62  16.5    5.6    5.6    5.6    6.59   3.    13.86\n",
      " 18.3   13.86  13.5   13.89  18.    18.355 10.     8.08  12.2   15.2\n",
      " 18.6    8.1   19.14   6.96   6.96   8.082  2.55  15.2    3.95   4.36\n",
      "  3.96   1.68   1.68   1.68   1.68   1.3    2.88  10.1    1.65   1.68\n",
      "  1.68  15.2   12.16  18.6    8.38   8.     8.2   18.     8.08   8.2\n",
      " 18.     8.     9.87   8.     8.1   18.57  15.235 18.299 18.341 15.269\n",
      " 15.257 12.869 18.25  10.    10.    10.    20.77   9.    20.64   2.4\n",
      " 16.5    8.2    0.665 18.2    8.     8.    15.    15.     0.3    0.48\n",
      "  0.72   0.9   15.     0.9   18.3   10.24  18.     6.     0.586  0.48\n",
      "  0.783  0.348  0.348  0.348  0.809  0.809  0.809  0.809  0.809  0.809\n",
      "  0.809  0.809 15.121 12.    12.    12.    15.    12.    15.     4.\n",
      " 12.     4.    12.     4.    12.    18.5    9.007 20.8    9.    25.096\n",
      "  2.2    8.     8.     8.     8.     8.    18.     8.    15.     1.69\n",
      "  8.     8.     8.     8.    12.    12.    12.3    6.14  12.39  12.3\n",
      "  6.     1.02   1.02  12.     6.    12.    12.3    6.     6.    12.13\n",
      " 12.34   6.     0.345  0.345  0.345  0.345  0.345  0.345  0.345  0.345\n",
      "  1.2    1.2    1.2    1.2    1.2    1.92   5.6    1.464]\n"
     ]
    }
   ],
   "source": [
    "# Pesos de los skus\n",
    "print(example_data[\"W\"])"
   ]
  },
  {
   "cell_type": "code",
   "execution_count": 6,
   "id": "a5c16b9d",
   "metadata": {},
   "outputs": [
    {
     "name": "stdout",
     "output_type": "stream",
     "text": [
      "[(9, 30), (9, 30), (5, 12), (4, 11), (1, 6), (0, 5), (0, 5)]\n"
     ]
    }
   ],
   "source": [
    "# Tolerancia en pesos por cada clusters\n",
    "print(example_data[\"WT\"])"
   ]
  },
  {
   "cell_type": "code",
   "execution_count": 7,
   "id": "bbdf90be",
   "metadata": {},
   "outputs": [
    {
     "name": "stdout",
     "output_type": "stream",
     "text": [
      "[[45  0]\n",
      " [45  0]\n",
      " [45  0]\n",
      " [45  0]\n",
      " [25 35]\n",
      " [25 35]\n",
      " [25 35]]\n"
     ]
    }
   ],
   "source": [
    "# Capacidad de los clusters considerando divisiones\n",
    "print(example_data[\"Z_DIV\"])"
   ]
  },
  {
   "cell_type": "code",
   "execution_count": 8,
   "id": "c3b54d48",
   "metadata": {},
   "outputs": [
    {
     "name": "stdout",
     "output_type": "stream",
     "text": [
      "[0 0 0 0 0 0 0 0 0 0 0 0 0 0 0 0 0 0 0 0 0 0 0 0 0 0 0 0 0 0 0 0 0 0 0 0 0\n",
      " 0 0 0 0 0 0 0 0 1 0 1 1 1 1 1 1 1 0 1 0 0 0 0 1 1 1 1 1 1 1 1 0 0 1 1 1 0\n",
      " 0 0 0 0 0 0 1 1 0 1 0 0 1 1 1 1 0 0 0 0 0 0 0 0 0 1 1 1 1 0 0 0 0 0 0 1 0\n",
      " 0 1 1 1 1 1 0 1 1 1 0 0 1 0 0 0 0 0 0 0 0 0 0 1 1 0 0 1 1 1 0 0 0 0 0 0 0\n",
      " 0 0 0 0 0 0 0 0 0 0 0 0 0 0 0 0 0 0 0 0 0 0 0 1 1 1 1 1 0 0 1 1 1 0 0 0 0\n",
      " 0 0 0 0 0 0 0 0 0 0 0 0 0 0 0 0 0 0 0 0 0 0 0 0 1 0 0 1 0 0 0 0 0 1 1 1 1\n",
      " 0 1 0 0 0 0 1 1 1 1 1 1 1 1 1 1 1 1 1 1 0 0 0 0 0 0 0 0 0 0 0 0 0 0 0 0 0\n",
      " 0 1 0 0 0 0 0 0 0 0 1 0 0 0 0 0 0 0 0 0 0 0 1 1 0 0 0 0 0 0 0 0 0 1 1 1 1\n",
      " 1 1 1 1 1 1 1 1 1 1 0 1]\n"
     ]
    }
   ],
   "source": [
    "# Rotaciónes de los skus (Solo dos tipos: 0 y 1)\n",
    "print(example_data[\"division_types\"])"
   ]
  },
  {
   "cell_type": "code",
   "execution_count": 9,
   "id": "5e09ab94",
   "metadata": {},
   "outputs": [
    {
     "name": "stdout",
     "output_type": "stream",
     "text": [
      "=======================================================\n",
      "n_gen |  n_eval |  n_nds  |     eps      |  indicator  \n",
      "=======================================================\n",
      "    1 |      20 |      10 |            - |            -\n",
      "    2 |      30 |      10 |  0.064575146 |        nadir\n",
      "    3 |      40 |      11 |  0.213074544 |        ideal\n",
      "    4 |      50 |      11 |  0.125320647 |        ideal\n",
      "    5 |      60 |      10 |  0.003698156 |        nadir\n",
      "    6 |      70 |      10 |  0.003480367 |            f\n",
      "    7 |      80 |      11 |  0.021616451 |        nadir\n",
      "    8 |      90 |      12 |  0.009923655 |            f\n",
      "    9 |     100 |      13 |  0.013965668 |        nadir\n",
      "   10 |     110 |      12 |  0.247042500 |        ideal\n",
      "   11 |     120 |      15 |  0.004326172 |        ideal\n",
      "   12 |     130 |      18 |  0.173957578 |        nadir\n",
      "   13 |     140 |      14 |  0.063016060 |        nadir\n",
      "   14 |     150 |      14 |  0.006380354 |            f\n",
      "   15 |     160 |      13 |  0.161039851 |        ideal\n",
      "   16 |     170 |      13 |  0.011352723 |            f\n",
      "   17 |     180 |      14 |  0.007095121 |            f\n",
      "   18 |     190 |      17 |  0.019463045 |            f\n",
      "   19 |     200 |      18 |  0.007581313 |            f\n",
      "   20 |     210 |      18 |  0.007135199 |            f\n"
     ]
    }
   ],
   "source": [
    "from warehouse_allocation.algorithms import solve_chung_problem\n",
    "    \n",
    "# Resolvamos el problema considerando restricciones de pesos\n",
    "\n",
    "result_weighted = solve_chung_problem(\n",
    "    algorithm_name = \"NSGA2\",\n",
    "    D=example_data[\"D\"],\n",
    "    Z=example_data[\"Z\"],\n",
    "    OCM=example_data[\"OCM\"],\n",
    "    W=example_data[\"W\"],\n",
    "    WT=example_data[\"WT\"],\n",
    "    mutation_prob = 0.1,\n",
    "    crossover_prob = 0.9,\n",
    "    affinity_prob = 0.5,\n",
    "    pop_size = 20,\n",
    "    n_offsprings = 10,\n",
    "    iterations = 20,\n",
    "    verbose = True\n",
    ")"
   ]
  },
  {
   "cell_type": "code",
   "execution_count": 10,
   "id": "5d8872b4",
   "metadata": {},
   "outputs": [
    {
     "name": "stdout",
     "output_type": "stream",
     "text": [
      "=======================================================\n",
      "n_gen |  n_eval |  n_nds  |     eps      |  indicator  \n",
      "=======================================================\n",
      "    1 |      20 |      10 |            - |            -\n",
      "    2 |      30 |      14 |  0.441654779 |        ideal\n",
      "    3 |      40 |      17 |  0.346752400 |        ideal\n",
      "    4 |      50 |      17 |  0.013828073 |            f\n",
      "    5 |      60 |      19 |  0.005615269 |            f\n",
      "    6 |      70 |      20 |  0.012226937 |            f\n",
      "    7 |      80 |      20 |  0.200163977 |        ideal\n",
      "    8 |      90 |      15 |  0.015541265 |        ideal\n",
      "    9 |     100 |      15 |  0.150294068 |        ideal\n",
      "   10 |     110 |      15 |  0.098060018 |        ideal\n",
      "   11 |     120 |      15 |  0.010727870 |            f\n",
      "   12 |     130 |      17 |  0.014178965 |            f\n",
      "   13 |     140 |      15 |  0.114172171 |        ideal\n",
      "   14 |     150 |      12 |  0.020741757 |            f\n",
      "   15 |     160 |      14 |  0.010771870 |            f\n",
      "   16 |     170 |      14 |  0.018539965 |            f\n",
      "   17 |     180 |      14 |  0.014626352 |        ideal\n",
      "   18 |     190 |      17 |  0.277057453 |        ideal\n",
      "   19 |     200 |      17 |  0.012647302 |            f\n",
      "   20 |     210 |      18 |  0.062300930 |        ideal\n"
     ]
    }
   ],
   "source": [
    "# Resolvamos el problema sin restricciones de pesos\n",
    "result_original = solve_chung_problem(\n",
    "    processes = 3, # 3 procesos\n",
    "    algorithm_name = \"NSGA2\",\n",
    "    D=example_data[\"D\"],\n",
    "    Z=example_data[\"Z\"],\n",
    "    OCM=example_data[\"OCM\"],\n",
    "    mutation_prob = 0.1,\n",
    "    crossover_prob = 0.9,\n",
    "    affinity_prob = 0.5,\n",
    "    pop_size = 20,\n",
    "    n_offsprings = 10,\n",
    "    iterations = 20,\n",
    "    verbose = True\n",
    ")"
   ]
  },
  {
   "cell_type": "code",
   "execution_count": 11,
   "id": "ee1d6dd6",
   "metadata": {},
   "outputs": [
    {
     "name": "stdout",
     "output_type": "stream",
     "text": [
      "=======================================================\n",
      "n_gen |  n_eval |  n_nds  |     eps      |  indicator  \n",
      "=======================================================\n",
      "    1 |      20 |      11 |            - |            -\n",
      "    2 |      30 |       7 |  0.255746459 |        ideal\n",
      "    3 |      40 |       8 |  0.219086184 |        ideal\n",
      "    4 |      50 |      11 |  0.020144348 |            f\n",
      "    5 |      60 |      15 |  0.026571614 |        ideal\n",
      "    6 |      70 |      17 |  0.006600619 |            f\n",
      "    7 |      80 |      19 |  0.115273712 |        ideal\n",
      "    8 |      90 |      17 |  0.114288632 |        ideal\n",
      "    9 |     100 |      18 |  0.075168853 |        ideal\n",
      "   10 |     110 |      16 |  0.085481008 |        ideal\n",
      "   11 |     120 |      18 |  0.006559458 |        ideal\n",
      "   12 |     130 |      17 |  0.008791401 |        ideal\n",
      "   13 |     140 |      19 |  0.096899959 |        ideal\n",
      "   14 |     150 |      20 |  0.035874976 |        ideal\n",
      "   15 |     160 |      20 |  0.012522803 |            f\n",
      "   16 |     170 |      20 |  0.003863172 |            f\n",
      "   17 |     180 |      20 |  0.067596761 |        ideal\n",
      "   18 |     190 |      20 |  0.009128573 |        ideal\n",
      "   19 |     200 |      20 |  0.004158178 |            f\n",
      "   20 |     210 |      20 |  0.006097907 |            f\n"
     ]
    }
   ],
   "source": [
    "# Resolvamos el problema con restricciones de rotación\n",
    "result_division = solve_chung_problem(\n",
    "    processes = 2, # 2 procesos\n",
    "    algorithm_name = \"NSGA2\",\n",
    "    D=example_data[\"D\"],\n",
    "    Z=example_data[\"Z_DIV\"],\n",
    "    division_types = example_data[\"division_types\"],\n",
    "    OCM=example_data[\"OCM\"],\n",
    "    mutation_prob = 0.1,\n",
    "    crossover_prob = 0.9,\n",
    "    affinity_prob = 0.5,\n",
    "    pop_size = 20,\n",
    "    n_offsprings = 10,\n",
    "    iterations = 20,\n",
    "    verbose = True\n",
    ")"
   ]
  },
  {
   "cell_type": "code",
   "execution_count": 12,
   "id": "7857ef78",
   "metadata": {},
   "outputs": [
    {
     "name": "stdout",
     "output_type": "stream",
     "text": [
      "=======================================================\n",
      "n_gen |  n_eval |  n_nds  |     eps      |  indicator  \n",
      "=======================================================\n",
      "    1 |      20 |       6 |            - |            -\n",
      "    2 |      30 |       6 |  0.027036443 |            f\n",
      "    3 |      40 |      10 |  0.333359115 |        ideal\n",
      "    4 |      50 |      11 |  0.083193700 |        nadir\n",
      "    5 |      60 |      15 |  0.388273883 |        ideal\n",
      "    6 |      70 |      15 |  0.058891455 |        nadir\n",
      "    7 |      80 |      18 |  0.014707793 |        nadir\n",
      "    8 |      90 |      18 |  0.002316965 |            f\n",
      "    9 |     100 |      20 |  0.026731470 |        ideal\n",
      "   10 |     110 |      20 |  0.133811859 |        ideal\n",
      "   11 |     120 |      19 |  0.012656912 |        ideal\n",
      "   12 |     130 |      20 |  0.148781092 |        ideal\n",
      "   13 |     140 |      20 |  0.006893603 |        nadir\n",
      "   14 |     150 |      19 |  0.006336620 |        ideal\n",
      "   15 |     160 |      20 |  0.004172377 |            f\n",
      "   16 |     170 |      20 |  0.004659020 |        nadir\n",
      "   17 |     180 |      20 |  0.010776616 |            f\n",
      "   18 |     190 |      20 |  0.019578786 |        ideal\n",
      "   19 |     200 |      20 |  0.004929435 |            f\n",
      "   20 |     210 |      20 |  0.002890416 |            f\n"
     ]
    }
   ],
   "source": [
    "# Resolvamos el problema con restricciones de rotación + restricción de peso\n",
    "\n",
    "# No explicitar processes toma por defecto multiprocessing.cpu_count() - 1\n",
    "\n",
    "result_division_plus_weight = solve_chung_problem(\n",
    "    algorithm_name = \"NSGA2\",\n",
    "    D=example_data[\"D\"],\n",
    "    Z=example_data[\"Z_DIV\"],\n",
    "    W = example_data[\"W\"],\n",
    "    WT=example_data[\"WT\"],\n",
    "    division_types = example_data[\"division_types\"],\n",
    "    OCM=example_data[\"OCM\"],\n",
    "    mutation_prob = 0.1,\n",
    "    crossover_prob = 0.9,\n",
    "    affinity_prob = 0.5,\n",
    "    pop_size = 20,\n",
    "    n_offsprings = 10,\n",
    "    iterations = 20,\n",
    "    verbose = True\n",
    ")"
   ]
  },
  {
   "cell_type": "markdown",
   "id": "4db81d35",
   "metadata": {},
   "source": [
    "Los resultados son instancias de la clase [Result](https://pymoo.org/interface/result.html) de ``pymoo``, y contiene la información de las funciones objetivos, de la población final, del óptimo, etc. Los atributos notables son ``Result.F`` y ``Result.X``, que nos entregan los valores de los objetivos y la población (slottings)"
   ]
  },
  {
   "cell_type": "code",
   "execution_count": 13,
   "id": "07e03b64",
   "metadata": {},
   "outputs": [
    {
     "data": {
      "text/plain": [
       "array([[-131533.,   12523.],\n",
       "       [-117326.,   10024.],\n",
       "       [-118689.,   10349.],\n",
       "       [-118657.,   10140.],\n",
       "       [-154568.,   18041.],\n",
       "       [-143647.,   13743.],\n",
       "       [-133807.,   12736.],\n",
       "       [-137869.,   13107.],\n",
       "       [-141896.,   13132.],\n",
       "       [-126897.,   10543.],\n",
       "       [-117322.,    9905.],\n",
       "       [-168842.,   19765.],\n",
       "       [-162381.,   19399.],\n",
       "       [-136679.,   13074.],\n",
       "       [-148510.,   13745.],\n",
       "       [-128335.,   11842.],\n",
       "       [-172265.,   21954.],\n",
       "       [-127856.,   10918.]])"
      ]
     },
     "execution_count": 13,
     "metadata": {},
     "output_type": "execute_result"
    }
   ],
   "source": [
    "# Accedemos a los valores de las funciones objetivos de la población óptima (Pareto Front)\n",
    "result_original.F"
   ]
  },
  {
   "cell_type": "code",
   "execution_count": 14,
   "id": "81b4bd04",
   "metadata": {},
   "outputs": [
    {
     "data": {
      "text/plain": [
       "array([[-131423.,   12095.],\n",
       "       [-130113.,   11733.],\n",
       "       [-138636.,   14617.],\n",
       "       [-131094.,   12012.],\n",
       "       [-156386.,   16943.],\n",
       "       [-134003.,   13230.],\n",
       "       [-130249.,   11856.],\n",
       "       [-141721.,   15318.],\n",
       "       [-136717.,   14378.],\n",
       "       [-151646.,   16007.],\n",
       "       [-137945.,   14604.],\n",
       "       [-155356.,   16915.],\n",
       "       [-147910.,   15984.],\n",
       "       [-132670.,   12298.],\n",
       "       [-155266.,   16771.],\n",
       "       [-132928.,   12992.],\n",
       "       [-136129.,   13642.],\n",
       "       [-153079.,   16525.]])"
      ]
     },
     "execution_count": 14,
     "metadata": {},
     "output_type": "execute_result"
    }
   ],
   "source": [
    "result_weighted.F"
   ]
  },
  {
   "cell_type": "code",
   "execution_count": 15,
   "id": "61490b93",
   "metadata": {
    "scrolled": true
   },
   "outputs": [
    {
     "data": {
      "text/plain": [
       "array([[-124356.,   12268.],\n",
       "       [-196766.,   25729.],\n",
       "       [-169563.,   18951.],\n",
       "       [-187195.,   23220.],\n",
       "       [-188885.,   24518.],\n",
       "       [-139235.,   13831.],\n",
       "       [-173204.,   20894.],\n",
       "       [-171917.,   19308.],\n",
       "       [-182716.,   22596.],\n",
       "       [-179790.,   22021.],\n",
       "       [-155969.,   15562.],\n",
       "       [-178085.,   20899.],\n",
       "       [-129601.,   12942.],\n",
       "       [-146643.,   14413.],\n",
       "       [-143988.,   14234.],\n",
       "       [-152196.,   14678.],\n",
       "       [-126610.,   12381.],\n",
       "       [-194059.,   25310.],\n",
       "       [-162336.,   15861.],\n",
       "       [-135379.,   13156.]])"
      ]
     },
     "execution_count": 15,
     "metadata": {},
     "output_type": "execute_result"
    }
   ],
   "source": [
    "result_division.F"
   ]
  },
  {
   "cell_type": "markdown",
   "id": "71d11f67",
   "metadata": {},
   "source": [
    "<div class=\"alert alert-info\">\n",
    "<b>Observación :</b> Notar que los valores objetivos del problema sin restricciones de pesos son <em> mejores </em>. Esto es natural, mientras más restricciones tiene un problema de optimización, menor es la performance alcanzada.\n",
    "\n",
    "</div>"
   ]
  },
  {
   "cell_type": "markdown",
   "id": "91a8a947",
   "metadata": {},
   "source": [
    "Si no se setea el kwarg `processes` entonces por defecto se consideran `processes = multiprocesing.cpu_count() - 1`. Si el valor de `processes` supera la cantidad de cores disponibles se considera `multiprocessing.cpu_count()`.\n"
   ]
  },
  {
   "cell_type": "markdown",
   "id": "c563800a",
   "metadata": {},
   "source": [
    "Dependiendo de la máquina, no siempre `multiprocessing.cpu_count()` (cantidad máxima de cores) performa mejor en tiempos de ejecución. A veces mejor considerar una cantidad menor."
   ]
  },
  {
   "cell_type": "markdown",
   "id": "682c52f0",
   "metadata": {},
   "source": [
    "Para acceder a los slotting, el atributo ``Result.X`` es una matriz donde cada fila es un individuo (slotting), la cantidad filas depende de **cuantos individuos tenga el Pareto Front**. Este conjunto de individuos puede ser a lo más el tamaño de la población dado por el parámetro ``pop_size`` (este caso es cuando todos los individuos son óptimos).\n",
    "\n"
   ]
  },
  {
   "cell_type": "code",
   "execution_count": 16,
   "id": "c541978a",
   "metadata": {},
   "outputs": [
    {
     "data": {
      "text/plain": [
       "array([[0., 0., 0., ..., 0., 1., 0.],\n",
       "       [0., 0., 0., ..., 0., 0., 1.],\n",
       "       [0., 0., 0., ..., 0., 1., 1.],\n",
       "       ...,\n",
       "       [0., 0., 0., ..., 0., 0., 0.],\n",
       "       [1., 0., 0., ..., 0., 0., 0.],\n",
       "       [1., 0., 0., ..., 0., 0., 1.]])"
      ]
     },
     "execution_count": 16,
     "metadata": {},
     "output_type": "execute_result"
    }
   ],
   "source": [
    "# Los valores como variables de la población, cada fila es un individuo (slotting) en su\n",
    "# forma vectorial de tamaño n_clusters*n_skus\n",
    "result_original.X"
   ]
  },
  {
   "cell_type": "markdown",
   "id": "157968da",
   "metadata": {},
   "source": [
    "Para transformar una fila de la matriz poblacional ``Result.X``, a un slotting en su forma matricial, es decir, una matriz binaria de $C$ filas y $Q$ columnas, donde como siempre $C$ es la cantidad de clusters y $Q$ la cantidad de SKUs se accede al método ``matrix_individual`` definido en todas las clases problemas de ``warehouse_allocation``"
   ]
  },
  {
   "cell_type": "code",
   "execution_count": 17,
   "id": "53c610ef",
   "metadata": {},
   "outputs": [
    {
     "data": {
      "text/plain": [
       "(7, 308)"
      ]
     },
     "execution_count": 17,
     "metadata": {},
     "output_type": "execute_result"
    }
   ],
   "source": [
    "# Tomamos el primer individuo de la población y lo transformamos a matriz\n",
    "# Esta matriz tiene tamaño (n_clusters, n_skus), la entrada (k,i), es un valor\n",
    "# booleano que es True si el SKU número i está alocado en el cluster k, y False en otro caso.\n",
    "result_original.problem.matrix_individual(result_original.X[0]).shape"
   ]
  },
  {
   "cell_type": "markdown",
   "id": "9b4a58f0",
   "metadata": {},
   "source": [
    "## Indexación \n",
    "\n",
    "El orden de indexación viene dado por las coordenas de los vectores de parámetros. Por ejemplo, si el problema de optimización contiene $N$ SKUS, la información del SKU número $i$ es obtenida de las $i-$ésimas entrada de los vectores de demanda y peso. A su vez, la afinidad entre los SKUS $i$ y $j$, corresponde a la entrada $(i,j)$ de la matriz de afinidad. Es responsabilidad del usuario respetar la indexación. Vectores de parámetros mal indexados conllevan a resultados inesperados.\n",
    "\n",
    "Cada fila del vector ``result.X``, es un individuo de la población óptima que encontró el algoritmo genético, que en este problema en particular representa un slotting. Por ende, el output del solver es una **familia** de slottings. \n"
   ]
  },
  {
   "cell_type": "code",
   "execution_count": 18,
   "id": "47807ec8",
   "metadata": {},
   "outputs": [
    {
     "name": "stdout",
     "output_type": "stream",
     "text": [
      "SKUS en el cluster 1  ['SKU_9', 'SKU_10', 'SKU_11', 'SKU_13', 'SKU_17', 'SKU_22', 'SKU_43', 'SKU_50', 'SKU_70', 'SKU_76', 'SKU_84', 'SKU_90', 'SKU_98', 'SKU_100', 'SKU_103', 'SKU_104', 'SKU_106', 'SKU_109', 'SKU_117', 'SKU_118', 'SKU_120', 'SKU_127', 'SKU_128', 'SKU_130', 'SKU_133', 'SKU_136', 'SKU_143', 'SKU_144', 'SKU_147', 'SKU_150', 'SKU_151', 'SKU_154', 'SKU_165', 'SKU_169', 'SKU_186', 'SKU_202', 'SKU_204', 'SKU_223', 'SKU_230', 'SKU_259', 'SKU_267', 'SKU_268', 'SKU_269', 'SKU_299', 'SKU_305']\n"
     ]
    }
   ],
   "source": [
    "# Ejemplo de como transformar el resultado del output genético en un slotting legíble por humanos\n",
    "\n",
    "import numpy as np\n",
    "\n",
    "# Códigos SKUs inventandos que simulan los códigos reales\n",
    "SKUS = [f\"SKU_{i}\" for i in range(len(example_data[\"D\"]))]\n",
    "\n",
    "def make_slotting(skus, result, n_ind):\n",
    "    \"\"\"Convierte individuo poblacional es slotting\n",
    "    \n",
    "    Dado un individuo de la población óptima del\n",
    "    resultado del algoritmo genético, transforma\n",
    "    la información binaria a lista de listas,\n",
    "    donde la coordenada k, son los códigos SKUs\n",
    "    que pertenecen al cluster número k\n",
    "    \n",
    "    \"\"\"\n",
    "    try:\n",
    "        \n",
    "        ind = result.X[n_ind]\n",
    "    \n",
    "    except IndexError:\n",
    "        print(\"Ops, no hay tantos individuos en la población\")\n",
    "        raise\n",
    "    # Transformamos el individuo a su forma matricial\n",
    "    ind = result.problem.matrix_individual(ind)\n",
    "    \n",
    "    return [[SKUS[idx] for idx in np.flatnonzero(clus)] for clus in ind]\n",
    "\n",
    "# Slotting humano-legíble del individuo número 10\n",
    "SLOTTING_FROM_IND_10 = make_slotting(SKUS, result_original, 10)\n",
    "\n",
    "\n",
    "print(\"SKUS en el cluster 1 \", SLOTTING_FROM_IND_10[0])\n"
   ]
  },
  {
   "cell_type": "markdown",
   "id": "7756a173",
   "metadata": {},
   "source": [
    "## Operadores de Mating y constraints\n",
    "\n",
    "El método ``solve_chung_problem`` como se mostró en los ejemplos anteriores usa internamente operadores *mating* que fueron presentados en la sección de [Operadores](Operadores.html). Dichos operadores son *Problem Specific*, esto es, están construídos para el problema que definen. El uso de los operadores garantiza que en cada iteración se respeten las constraints del problema que definen. Pasando ``constraints = True`` al método ``solve_chung_problem``, se evaluan internamente por ``pymoo`` las constraints\n",
    "\n"
   ]
  },
  {
   "cell_type": "code",
   "execution_count": 19,
   "id": "fb71e93c",
   "metadata": {},
   "outputs": [
    {
     "name": "stdout",
     "output_type": "stream",
     "text": [
      "=====================================================================================\n",
      "n_gen |  n_eval |   cv (min)   |   cv (avg)   |  n_nds  |     eps      |  indicator  \n",
      "=====================================================================================\n",
      "    1 |      20 |  0.00000E+00 |  0.00000E+00 |      10 |            - |            -\n",
      "    2 |      30 |  0.00000E+00 |  0.00000E+00 |      11 |  0.434665342 |        ideal\n",
      "    3 |      40 |  0.00000E+00 |  0.00000E+00 |      11 |  0.061238325 |        nadir\n",
      "    4 |      50 |  0.00000E+00 |  0.00000E+00 |      12 |  0.047085732 |        nadir\n",
      "    5 |      60 |  0.00000E+00 |  0.00000E+00 |      13 |  0.135688836 |        ideal\n",
      "    6 |      70 |  0.00000E+00 |  0.00000E+00 |      14 |  0.057374755 |        ideal\n",
      "    7 |      80 |  0.00000E+00 |  0.00000E+00 |       7 |  0.057931224 |            f\n",
      "    8 |      90 |  0.00000E+00 |  0.00000E+00 |       8 |  0.046338598 |        ideal\n",
      "    9 |     100 |  0.00000E+00 |  0.00000E+00 |       9 |  0.040711586 |            f\n",
      "   10 |     110 |  0.00000E+00 |  0.00000E+00 |       8 |  0.019904274 |            f\n",
      "   11 |     120 |  0.00000E+00 |  0.00000E+00 |       9 |  0.133367853 |        nadir\n",
      "   12 |     130 |  0.00000E+00 |  0.00000E+00 |      12 |  0.144042041 |        ideal\n",
      "   13 |     140 |  0.00000E+00 |  0.00000E+00 |      13 |  0.171570942 |        ideal\n",
      "   14 |     150 |  0.00000E+00 |  0.00000E+00 |      11 |  0.015537152 |            f\n",
      "   15 |     160 |  0.00000E+00 |  0.00000E+00 |      10 |  0.020562772 |            f\n",
      "   16 |     170 |  0.00000E+00 |  0.00000E+00 |      12 |  0.041429936 |        ideal\n",
      "   17 |     180 |  0.00000E+00 |  0.00000E+00 |      12 |  0.008646370 |            f\n",
      "   18 |     190 |  0.00000E+00 |  0.00000E+00 |      13 |  0.009658473 |            f\n",
      "   19 |     200 |  0.00000E+00 |  0.00000E+00 |      12 |  0.021595828 |        ideal\n",
      "   20 |     210 |  0.00000E+00 |  0.00000E+00 |      13 |  0.006985492 |        ideal\n"
     ]
    }
   ],
   "source": [
    "# Evalua las constraints en cada iteración\n",
    "# Notar que siempre el valor cv (avg) es 0, pues\n",
    "# los operadores respetan las restricciones del problema\n",
    "\n",
    "result_constraints = solve_chung_problem(\n",
    "    algorithm_name = \"NSGA2\",\n",
    "    D=example_data[\"D\"],\n",
    "    Z=example_data[\"Z\"],\n",
    "    OCM=example_data[\"OCM\"],\n",
    "    W=example_data[\"W\"],\n",
    "    WT=example_data[\"WT\"],\n",
    "    mutation_prob = 0.1,\n",
    "    crossover_prob = 0.9,\n",
    "    affinity_prob = 0.5,\n",
    "    pop_size = 20,\n",
    "    n_offsprings = 10,\n",
    "    iterations = 20,\n",
    "    verbose = True,\n",
    "    constraints = True,\n",
    ")"
   ]
  },
  {
   "cell_type": "markdown",
   "id": "097d931b",
   "metadata": {},
   "source": [
    "**Cuidado**: Pasar `constraints = True` solo tiene sentido en ámbito de desarrollo/testing, pues debido a que los operadores respetan las constraints del problema, nunca se trabajará con población infeasible y solo hará que el algoritmo haga más cálculos.\n"
   ]
  },
  {
   "cell_type": "markdown",
   "id": "9426a362",
   "metadata": {},
   "source": [
    "**Cuidado**: Las constraints no están paralelizadas (No tiene sentido por lo dicho anteriormente)."
   ]
  }
 ],
 "metadata": {
  "kernelspec": {
   "display_name": "Python 3 (ipykernel)",
   "language": "python",
   "name": "python3"
  },
  "language_info": {
   "codemirror_mode": {
    "name": "ipython",
    "version": 3
   },
   "file_extension": ".py",
   "mimetype": "text/x-python",
   "name": "python",
   "nbconvert_exporter": "python",
   "pygments_lexer": "ipython3",
   "version": "3.9.7"
  }
 },
 "nbformat": 4,
 "nbformat_minor": 5
}
