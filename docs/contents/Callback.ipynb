{
 "cells": [
  {
   "cell_type": "markdown",
   "id": "1972fa3a",
   "metadata": {},
   "source": [
    "# Callbacks\n",
    "\n",
    "Un callback es un operador que modifica o usa información de un algoritmo en tiempo\n",
    "de ejecución. Este operador no es un operador genético, es decir, no tiene relación\n",
    "con los operadores de *mating* que definen el algoritmo, si no más bien es un operador\n",
    "de conveniencia para ajustar los operadores principales.\n"
   ]
  },
  {
   "cell_type": "code",
   "execution_count": 1,
   "id": "50e359b1",
   "metadata": {},
   "outputs": [
    {
     "name": "stdout",
     "output_type": "stream",
     "text": [
      "=======================================================\n",
      "n_gen |  n_eval |  n_nds  |     eps      |  indicator  \n",
      "=======================================================\n",
      "    1 |      50 |       8 |            - |            -\n",
      "    2 |      60 |       8 |  0.114779348 |        ideal\n",
      "    3 |      70 |      10 |  0.030684689 |            f\n",
      "    4 |      80 |      12 |  0.009813673 |        ideal\n",
      "    5 |      90 |      12 |  0.042293770 |        ideal\n",
      "    6 |     100 |       9 |  0.010141948 |            f\n",
      "    7 |     110 |       9 |  0.074468085 |        ideal\n",
      "    8 |     120 |      10 |  0.129005836 |        ideal\n",
      "    9 |     130 |       8 |  0.011983677 |            f\n",
      "   10 |     140 |       9 |  0.109571145 |        nadir\n",
      "   11 |     150 |       9 |  0.00000E+00 |            f\n",
      "   12 |     160 |       9 |  0.00000E+00 |            f\n",
      "   13 |     170 |      11 |  0.224893233 |        ideal\n",
      "   14 |     180 |      11 |  0.000064040 |            f\n",
      "   15 |     190 |      11 |  0.000604380 |            f\n",
      "   16 |     200 |      10 |  0.022676420 |        ideal\n",
      "   17 |     210 |      10 |  0.019958895 |        ideal\n",
      "   18 |     220 |      10 |  0.00000E+00 |            f\n",
      "   19 |     230 |      13 |  0.010413474 |            f\n",
      "   20 |     240 |      16 |  0.060945274 |        ideal\n"
     ]
    }
   ],
   "source": [
    "import pickle\n",
    "\n",
    "import numpy as np\n",
    "\n",
    "from warehouse_allocation.operators.callback import ReportObjectiveBestValuesCallback\n",
    "from warehouse_allocation.algorithms import solve_chung_problem\n",
    "\n",
    "# Cargamos data de ejemplo\n",
    "with open(\"data\", \"rb\") as ip:\n",
    "    example_data = pickle.load(ip)\n",
    "\n",
    "# Resolvemos el problema de Chung adicionando el callback que reporta los objetivos\n",
    "# Seteamos la cantidad de objetivos con n_obj = 2\n",
    "result = solve_chung_problem(\n",
    "    algorithm_name = \"NSGA2\",\n",
    "    D=example_data[\"D\"],\n",
    "    Z=example_data[\"Z\"],\n",
    "    OCM=example_data[\"OCM\"],\n",
    "    W=example_data[\"W\"],\n",
    "    WT=example_data[\"WT\"],\n",
    "    algorithm_callback=ReportObjectiveBestValuesCallback(n_obj=2),\n",
    "    iterations = 20,\n",
    "    pop_size = 50,\n",
    "    n_offsprings = 10,\n",
    "    verbose = True\n",
    ")"
   ]
  },
  {
   "cell_type": "code",
   "execution_count": 2,
   "id": "37bccfa0",
   "metadata": {},
   "outputs": [
    {
     "data": {
      "text/plain": [
       "{'F_1': array([[-137170.,   17096.],\n",
       "        [-138884.,   16739.],\n",
       "        [-138884.,   16739.],\n",
       "        [-139032.,   17100.],\n",
       "        [-139698.,   17897.],\n",
       "        [-139698.,   17897.],\n",
       "        [-140965.,   16718.],\n",
       "        [-143485.,   17973.],\n",
       "        [-143485.,   17973.],\n",
       "        [-143485.,   17973.],\n",
       "        [-143485.,   17973.],\n",
       "        [-143485.,   17973.],\n",
       "        [-148593.,   19265.],\n",
       "        [-148593.,   19265.],\n",
       "        [-148593.,   19265.],\n",
       "        [-149120.,   20176.],\n",
       "        [-149557.,   19623.],\n",
       "        [-149557.,   19623.],\n",
       "        [-149557.,   19623.],\n",
       "        [-150978.,   19957.]]),\n",
       " 'F_2': array([[-123951.,   11541.],\n",
       "        [-123951.,   11541.],\n",
       "        [-123951.,   11541.],\n",
       "        [-123951.,   11541.],\n",
       "        [-123951.,   11541.],\n",
       "        [-123951.,   11541.],\n",
       "        [-123951.,   11541.],\n",
       "        [-123951.,   11541.],\n",
       "        [-123951.,   11541.],\n",
       "        [-125880.,   11541.],\n",
       "        [-125880.,   11541.],\n",
       "        [-125880.,   11541.],\n",
       "        [-125880.,   11541.],\n",
       "        [-125880.,   11541.],\n",
       "        [-125880.,   11541.],\n",
       "        [-125880.,   11541.],\n",
       "        [-127662.,   11541.],\n",
       "        [-127662.,   11541.],\n",
       "        [-127662.,   11541.],\n",
       "        [-127662.,   11541.]])}"
      ]
     },
     "execution_count": 2,
     "metadata": {},
     "output_type": "execute_result"
    }
   ],
   "source": [
    "# Podemos acceder a la información guardad en cada iteración.\n",
    "# Se tiene un diccionario, donde cada llave corresponde a una función objetivo\n",
    "# Por ejemplo, la llave F_1, reporta los mejores valores de F_1 en cada iteración, además\n",
    "# del valor respectivo de F_2. Análogo la llave F_2.\n",
    "result.algorithm.callback.data"
   ]
  },
  {
   "cell_type": "markdown",
   "id": "5c84d919",
   "metadata": {},
   "source": [
    "Un callback que **modifca** el comportamiento del algoritmo es el definido en ``StopMutationAfterNgenCallback``. Este callback detiene el operador de mutación del mating, despues de un número pre fijado de generaciones. La idea de este callback nace en que un principio podría ser bueno explorar muchas soluciones, y luego simplemente mejorar la población general con la genética ya presente."
   ]
  },
  {
   "cell_type": "code",
   "execution_count": 8,
   "id": "eed02f47",
   "metadata": {},
   "outputs": [
    {
     "name": "stdout",
     "output_type": "stream",
     "text": [
      "=======================================================\n",
      "n_gen |  n_eval |  n_nds  |     eps      |  indicator  \n",
      "=======================================================\n",
      "    1 |      50 |      10 |            - |            -\n",
      "    2 |      60 |      13 |  0.586146575 |        ideal\n",
      "    3 |      70 |      11 |  0.013067766 |            f\n",
      "    4 |      80 |       9 |  0.010056088 |            f\n",
      "    5 |      90 |       9 |  0.007094227 |            f\n",
      "    6 |     100 |      10 |  0.005057957 |            f\n",
      "    7 |     110 |      10 |  0.003516311 |            f\n",
      "    8 |     120 |      10 |  0.011673575 |            f\n",
      "    9 |     130 |      10 |  0.011513896 |            f\n",
      "   10 |     140 |      10 |  0.00000E+00 |            f\n",
      "   11 |     150 |      12 |  0.026326012 |        ideal\n",
      "   12 |     160 |      13 |  0.008444444 |        ideal\n",
      "   13 |     170 |      14 |  0.013344303 |            f\n",
      "   14 |     180 |      15 |  0.017438645 |        ideal\n",
      "   15 |     190 |      16 |  0.015449438 |        ideal\n",
      "   16 |     200 |      18 |  0.017350480 |        nadir\n",
      "   17 |     210 |      18 |  0.012219959 |        nadir\n",
      "   18 |     220 |      19 |  0.006295725 |            f\n",
      "   19 |     230 |      21 |  0.005719061 |            f\n",
      "   20 |     240 |      18 |  0.055927102 |        ideal\n"
     ]
    }
   ],
   "source": [
    "from warehouse_allocation.operators import ChungAislePermutationMutation\n",
    "from warehouse_allocation.operators.callback import StopMutationAfterNgenCallback\n",
    "\n",
    "from pymoo.operators.mutation.nom import NoMutation\n",
    "\n",
    "\n",
    "# Aplicamos el operador de mutación con una tasa alta (note que la tasa es a elección del usuario)\n",
    "# y aplicamos el callback que detendrá el operador de mutación luego de la generación 10\n",
    "# Este callback convertira el operador en NoMutation, que es una dummy class.\n",
    "result = solve_chung_problem(\n",
    "    algorithm_name = \"NSGA2\",\n",
    "    D=example_data[\"D\"],\n",
    "    Z=example_data[\"Z\"],\n",
    "    OCM=example_data[\"OCM\"],\n",
    "    W=example_data[\"W\"],\n",
    "    WT=example_data[\"WT\"],\n",
    "    iterations = 20,\n",
    "    algorithm_callback = StopMutationAfterNgenCallback(after_gen = 10),\n",
    "    pop_size = 50,\n",
    "    n_offsprings = 10,\n",
    "    verbose = True\n",
    ")\n",
    "\n",
    "\n",
    "assert isinstance(result.algorithm.mating.mutation, NoMutation)"
   ]
  }
 ],
 "metadata": {
  "kernelspec": {
   "display_name": "Python 3 (ipykernel)",
   "language": "python",
   "name": "python3"
  },
  "language_info": {
   "codemirror_mode": {
    "name": "ipython",
    "version": 3
   },
   "file_extension": ".py",
   "mimetype": "text/x-python",
   "name": "python",
   "nbconvert_exporter": "python",
   "pygments_lexer": "ipython3",
   "version": "3.9.7"
  }
 },
 "nbformat": 4,
 "nbformat_minor": 5
}
