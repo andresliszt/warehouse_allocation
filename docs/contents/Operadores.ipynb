{
 "cells": [
  {
   "cell_type": "markdown",
   "id": "82f81622",
   "metadata": {},
   "source": [
    "# Operadores Genéticos\n",
    "\n",
    "Los operadores son objetos matemáticos que toman un o más individuos y los modifican de acuerdo a lógicas que intentan emular \n",
    "el comportamiento evolutivo de las especies.\n",
    "\n",
    "Desde aquí en adelante trabajaremos con una cantidad de skus de tamaño $Q$ y cantidad de clusters $C$. Un **individuo** es un slotting, donde su representación matricial es de la forma\n",
    "$$(x_{k,i})_{(k,i)\\in C\\times Q}$$\n",
    "\n",
    "Donde $x_{k,i} = 1$ si el sku $i$ está alocado en el cluster $k$, y $0$ en otro caso. \n",
    "\n",
    "\n",
    "Se recomienda la sección [Problemas](Problemas.html), para la nototación poblacional y el completo entendimiento de los operadores acá definidos.\n",
    "\n",
    "\n",
    "\n",
    "\n",
    "## Sampling\n",
    "\n",
    "\n",
    "Este operador se encarga de generar la población inicial, el operador de sampling es una aplicación \n",
    "$$S: N\\in\\mathbb{N}^{+} \\rightarrow  ((x_{k,i})_{(k,i)\\in C\\times Q})^N \\in (\\mathbb{M}\\{0,1\\}_{C\\times Q})^N$$\n",
    "\n",
    "donde $\\mathbb{M}\\{0,1\\}_{Q\\times C}$ son las matrices de tamaño $C\\times Q$ binarias.\n",
    "\n",
    "\n",
    "### Problema de asignación lineal Random\n",
    "\n",
    "Para generar un slotting random se utiliza una técnica de asignación con programación lineal. Para ello, \n",
    "se genera un matriz $\\text{Cost}$ de costo aleatorio con valores enteros (con entero máximo posible como la cantidad de skus). Esta matriz es de tamaño $Q\\times C$, cuya entrada $c_{k,i}$ \n",
    "representa un costo random de asignar el sku $i$ en el cluster $k$. El problema de optimización consiste en resolver\n",
    "\n",
    "$$\\max \\sum_{k = 1}^{C}\\sum_{i= 1}^{Q}c_{k, i}x_{k,i}$$\n",
    "\n",
    "Sujeto a las restricciones del problema de slotting\n",
    "\n",
    "$$\n",
    "\\begin{align}\n",
    "  \\sum_{k = 1}^{C} x_{k,i} & =  1 \\hspace{0.5cm} \\forall i = 1, ..., Q\\\\\n",
    "  \\sum_{i = 1}^{Q} x_{k,i} & \\leq  Z_{k}  \\hspace{0.5cm} \\forall k = 1, ..., C\\\\\n",
    "  \\sum_{k = 1}^{C} w_{k,i}x_{k,i} & =  1 \\hspace{0.5cm} \\forall i = 1, ..., Q\\\\\n",
    "  x_{k,i} & \\in  \\lbrace 0,1 \\rbrace \\\\\n",
    "\\end{align}\n",
    "$$\n",
    "\n",
    "Las soluciones cambian radicalmente conforme cambie la matriz de costo $\\text{Cost}$. La implementación de este problema lineal\n",
    "está hecho en el framework de Google [ortools](https://developers.google.com/optimization/reference).\n",
    "\n",
    "\n",
    "### Fast Nondominated Sorting Sampling\n",
    "\n",
    "\n",
    "Esta técnica esta fundamentada en el operador Survival usado en el algoritmo ``NSGA-II``. El procedimiento es siguiente\n",
    "\n",
    "* 1. Se fija el tamaño de la población $N$ y se genera $P = \\emptyset$.\n",
    "\n",
    "* 2. Se realiza un sampleo random generando $N$ slottings feasibles con la técnica de asignación lineal random.\n",
    "\n",
    "* 3. A cada uno de estos slottings, se le asigna un ranking, de acuerdo a la dominancia de Pareto. Un individuo tiene ranking 0 cuando no hay ningun otro individuo que lo domine, ranking 1 si hay uno que lo domine, etc. \n",
    "\n",
    "* 4. Se seleccionan los $P^{\\prime}$ individuos de ranking 0 (siempre hay al menos dos de ranking 0, ¿Por que?) y se hace $P = P\\cup P^{\\prime}$.\n",
    "\n",
    "* 5. Si $|P| >= N$ retornar los primeros $N$ individuos, si no, seguir en el punto 2."
   ]
  },
  {
   "cell_type": "code",
   "execution_count": 6,
   "id": "8e92e5f4",
   "metadata": {},
   "outputs": [],
   "source": [
    "import numpy as np\n",
    "\n",
    "from warehouse_allocation.models import ChungProblemStrictlyWeighted, ChungProblem\n",
    "from warehouse_allocation.operators import NonDominatedSortingSamplingWeighted, NonDominatedSortingSampling\n",
    "\n",
    "# Parámetros dummy\n",
    "D = np.array([10,10, 10])\n",
    "\n",
    "Z = np.array([5,5])\n",
    "\n",
    "OCM = np.array([[0,10,10], [0,0,10], [0,0,0]])\n",
    "\n",
    "W = np.array([5, 5, 5])\n",
    "\n",
    "WT = np.array([[0,10], [0,10]])\n",
    "\n",
    "# Problema con restricciones de peso\n",
    "problem_weighted = ChungProblemStrictlyWeighted(D = D, Z = Z, OCM = OCM, W = W, WT = WT)\n",
    "\n",
    "# Problema sin restricciones de pesos\n",
    "problem = ChungProblem(D = D, Z = Z, OCM = OCM)\n",
    "\n",
    "# Objeto de sampleo con retricciones de peso\n",
    "sampler_weighted = NonDominatedSortingSamplingWeighted()\n",
    "\n",
    "# Objeto de sampleo sin retricciones de peso\n",
    "sampler = NonDominatedSortingSampling()"
   ]
  },
  {
   "cell_type": "markdown",
   "id": "5de0abf1",
   "metadata": {},
   "source": [
    "El método principal de ambas clases es ``individual``, que genéra un slotting random respetando las constraints del problema respectivo."
   ]
  },
  {
   "cell_type": "code",
   "execution_count": 7,
   "id": "95406aba",
   "metadata": {},
   "outputs": [
    {
     "data": {
      "text/plain": [
       "array([False, False,  True,  True,  True, False])"
      ]
     },
     "execution_count": 7,
     "metadata": {},
     "output_type": "execute_result"
    }
   ],
   "source": [
    "# Generamos el costo random\n",
    "COST_RANDOM = sampler.random_cost(problem)\n",
    "# Generamos el slotting asociado a ese costo random\n",
    "sampler.individual(problem, Cost = COST_RANDOM)"
   ]
  },
  {
   "cell_type": "code",
   "execution_count": 8,
   "id": "55112bde",
   "metadata": {},
   "outputs": [
    {
     "data": {
      "text/plain": [
       "array([ True, False, False, False,  True,  True])"
      ]
     },
     "execution_count": 8,
     "metadata": {},
     "output_type": "execute_result"
    }
   ],
   "source": [
    "# Problema con restricciones de peso\n",
    "COST_RANDOM_WEIGHTED = sampler_weighted.random_cost(problem_weighted)\n",
    "sampler_weighted.individual(problem_weighted, Cost = COST_RANDOM_WEIGHTED)"
   ]
  },
  {
   "cell_type": "markdown",
   "id": "57491dff",
   "metadata": {},
   "source": [
    "Ambas clases definen un método interno ``_do`` que es usado internamente por ``pymoo`` y se encarga de generar la población inicial ``X_pop``, llamando a los métodos exhibidos anteriormente tantas veces como sea el tamaño de la población establecido."
   ]
  },
  {
   "cell_type": "markdown",
   "id": "bdd9d249",
   "metadata": {},
   "source": [
    "## Mutation\n",
    "\n",
    "Mutar un individuo $S$ consiste en cambiar su genética mediante un proceso que involucre aleatoriedad. \n",
    "Un operador de mutación es una aplicación\n",
    "\n",
    "$$M: (x_{k,i})_{(k,i)\\in C\\times Q}\\in\\mathbb{M}_{C\\times Q} \\rightarrow (x^{\\prime}_{k,i})_{(k,i)\\in C\\times Q}\\in\\mathbb{M}_{C\\times Q}$$\n",
    "\n",
    "\n",
    "Para cada sku dado por el índice $i$, definimos el conjunto $$D(i) = A\\subseteq \\{1,2,...,C\\}$$\n",
    "\n",
    "que identifica cada sku con los clusters a los que puede ser alocado de acuerdo a **las restricciones de pesos**.\n",
    "\n",
    "El operador de mutación implementado consiste en:\n",
    "\n",
    "* Elegir un sku $i$ de forma aleatoria junto y el cluster al cual pertenece actualmente en la solución $S$, dado por el índice $k_{i}$.\n",
    "\n",
    "* Se obtienen los candidatos a intercambio, es decir, aquellos sku $j$ tales que $k_{i}\\in D(j)$. De estos, además se filtran aquellos sku $j$ tales que su cluster $k_j$ asignado en la solución sean compatibles con $i$, es decir, $k_j \\in D(i)$.\n",
    "\n",
    "* De este conjunto de candidatos final se escoge uno de forma aleatoria y se realiza un intercambio, creando así una nueva solución $S^*$.\n",
    "\n",
    "* Se entrega la solución $S$. \n",
    "\n",
    "Si no hay sku posible de intercambio, es decir, esto sucede cuando un sku es exclusivo de un cluster (puede ser alocado en uno y \n",
    "solo un cluster) este operador se convierte en la identidad."
   ]
  },
  {
   "cell_type": "code",
   "execution_count": 9,
   "id": "11ec57ac",
   "metadata": {},
   "outputs": [],
   "source": [
    "from warehouse_allocation.operators import ChungAislePermutationMutation, ChungAislePermutationMutationWeighted\n",
    "\n",
    "mutation = ChungAislePermutationMutation(prob = 0.1)\n",
    "mutation_weighted = ChungAislePermutationMutationWeighted(prob = 0.2)\n",
    "\n",
    "# Individuo tiene que estar en su forma vectorial\n",
    "individual = np.array([ True, False, False, False,  True,  True])"
   ]
  },
  {
   "cell_type": "code",
   "execution_count": 10,
   "id": "ae854c33",
   "metadata": {},
   "outputs": [
    {
     "data": {
      "text/plain": [
       "array([False, False,  True,  True,  True, False])"
      ]
     },
     "execution_count": 10,
     "metadata": {},
     "output_type": "execute_result"
    }
   ],
   "source": [
    "mutation.mutate_individual(individual, problem)"
   ]
  },
  {
   "cell_type": "code",
   "execution_count": 11,
   "id": "61d72c23",
   "metadata": {},
   "outputs": [
    {
     "data": {
      "text/plain": [
       "array([False, False,  True,  True,  True, False])"
      ]
     },
     "execution_count": 11,
     "metadata": {},
     "output_type": "execute_result"
    }
   ],
   "source": [
    "mutation_weighted.mutate_individual(individual, problem_weighted)"
   ]
  },
  {
   "cell_type": "markdown",
   "id": "d0ee7b33",
   "metadata": {},
   "source": [
    "<div class=\"alert alert-info\">\n",
    "<b>Observación :</b> El parámetro <code>prob </code> es usado internamente por pymoo para aplicar el operador mutación con esa proporción a los inviduos que fueron seleccionados para el *mating*.\n",
    "</div>\n",
    "\n",
    "<div class=\"alert alert-info\">\n",
    "<b>Observación :</b> Solo se mostraron los operadores de mutación para el problema original y con restricciones de pesos, pero están definidos para el problema con división/rotación y el problema división/rotación más restricciones de pesos.\n",
    "</div>\n"
   ]
  },
  {
   "cell_type": "code",
   "execution_count": 12,
   "id": "cf869b6a",
   "metadata": {},
   "outputs": [],
   "source": [
    "# Acá están :)\n",
    "from warehouse_allocation.operators import ChungAislePermutationWithDivisions, ChungAislePermutationWithDivisionsPlusWeight"
   ]
  },
  {
   "cell_type": "markdown",
   "id": "029b7660",
   "metadata": {},
   "source": [
    "## Crossover\n",
    "\n",
    "\n",
    "Consiste en tomar dos soluciones $S_1, S_2$ y con ellas construir una nueva solución $H$ la cual mantiene elementos \n",
    "tanto de $S_1$ como $S_2$ (Las soluciones padre). El algoritmo es como sigue:\n",
    "\n",
    "* Se elige un pasillo $p$ de manera aleatoria.\n",
    "* Se copia el estado del pasillo $p$ en la solución $S_2$ y se sobreescribe en la solución $S_1$. Esto deja un conjunto $Q^*$ de skus sin asignar. \n",
    "* Aquellos elementos que ahora están duplicados en el resto de los pasillos, se remueven. Esta acción deja a los pasillos con ciertos espacios disponibles. Se guarda esta \"capacidad disponible\" en un vector $Z^*$.\n",
    "* Se realiza una asignación de los skus de $Q^*$ a los pasillos considerando tanto la capacidad disponible $Z^*$ como el diccionario de factibilidad $D$.\n",
    "* Es posible que la asignación no tenga solución, en cuyo caso se samplea un nuevo pasillo $p^*$ y se repite la operación.\n",
    "\n",
    "El proceso de re asignación de los SKUs se hace de manera óptima planteando un problema de flujo máximo con matriz de costo como en <cite data-cite=\"2020:Nadia\"> Nadia </cite>. La construcción de la\n",
    "matriz de costo puede ser de las siguientes dos formas\n",
    "\n",
    "* Dado un SKU $i$ (con reindexación relativa a la reasignación) de los $Q^*$ a reasignar, el costo $c_{k,i}$ de asignar el SKU $i$ en el cluster $k$ viene dado por **afinidad/co-ocurrencia** que genera con cada uno de los SKUs ya alocados en el cluster $k$\n",
    "* Dado un SKU $i$ (con reindexación relativa a la reasignación) de los $Q^*$ a reasignar, el costo $c_{k,i}$ de asignar el SKU $i$ en el cluster $k$ viene dado por la **demanda** neta tiene dicho cluster más la demanda del SKU en cuestión.\n",
    "\n",
    "La primera matriz de costo juega a favor de la función objetivo que máximiza afinidad, y la segunda a favor de la función objetivo que regulariza\n",
    "la demanda.\n",
    "\n",
    "![Crossover](crossover.png)\n",
    "\n",
    "\n",
    "La idea del crossover nace del algoritmo presentado en  <cite data-cite=\"1999:Larranaga\"> Larranaga </cite>, pero cambia totalmente la lógica del *mapping* o reasignación.\n",
    "\n",
    "\n"
   ]
  },
  {
   "cell_type": "code",
   "execution_count": 13,
   "id": "483ddd51",
   "metadata": {},
   "outputs": [],
   "source": [
    "from warehouse_allocation.operators import ChungPartiallyMappedCrossover, ChungPartiallyMappedCrossoverWeigthed\n",
    "\n",
    "crossover = ChungPartiallyMappedCrossover(prob = 0.9, aff_prob = 0.5)\n",
    "\n",
    "crossover_weighted = ChungPartiallyMappedCrossoverWeigthed(prob = 0.9, aff_prob = 0.5)\n",
    "\n",
    "# Slotting Madre\n",
    "M = np.array([False,  True, False,  True, False,  True])\n",
    "\n",
    "# Slotting Padre\n",
    "P = np.array([True, False,  True,  False,  True, False])"
   ]
  },
  {
   "cell_type": "code",
   "execution_count": 14,
   "id": "d4344555",
   "metadata": {},
   "outputs": [
    {
     "data": {
      "text/plain": [
       "array([[False,  True, False,  True, False,  True],\n",
       "       [False,  True, False,  True, False,  True]])"
      ]
     },
     "execution_count": 14,
     "metadata": {},
     "output_type": "execute_result"
    }
   ],
   "source": [
    "crossover.crossover(M, P, problem)"
   ]
  },
  {
   "cell_type": "code",
   "execution_count": 15,
   "id": "00d38460",
   "metadata": {},
   "outputs": [
    {
     "data": {
      "text/plain": [
       "array([[ True,  True,  True, False, False, False],\n",
       "       [False, False, False,  True,  True,  True]])"
      ]
     },
     "execution_count": 15,
     "metadata": {},
     "output_type": "execute_result"
    }
   ],
   "source": [
    "crossover_weighted.crossover(M, P, problem_weighted)"
   ]
  },
  {
   "cell_type": "markdown",
   "id": "5fd8efda",
   "metadata": {},
   "source": [
    "<div class=\"alert alert-info\">\n",
    "<b>Observación :</b> El parámetro <code>prob </code> es usado internamente por pymoo para aplicar el operador \n",
    "    crossover con esa proporción a los inviduos que fueron seleccionados para el *mating*.\n",
    "    Además se recibe como parámetro <code> aff_prob </code>, que indica la probabilidad de jugar a \n",
    "    favor de la afinidad en la reasignación/mapping descrito anteriormente.\n",
    "\n",
    "</div>\n",
    "\n",
    "<div class=\"alert alert-info\">\n",
    "<b>Observación :</b> Solo se mostraron los operadores de crossover para el problema original y con restricciones de pesos, pero están definidos para el problema con división/rotación y el problema división/rotación más restricciones de pesos.\n",
    "</div>\n"
   ]
  },
  {
   "cell_type": "code",
   "execution_count": 17,
   "id": "a2aa2347",
   "metadata": {},
   "outputs": [],
   "source": [
    "# Acá está :)\n",
    "from warehouse_allocation.operators import ChungPartiallyMappedCrossoverWithDivisions\n",
    "\n",
    "# Esta clase es usada tanto para el problema con divisiones/rotaciones y el problema con divisiones/rotaciones + \n",
    "# restricciones de peso, ver la API doc para ver el uso"
   ]
  }
 ],
 "metadata": {
  "kernelspec": {
   "display_name": "Python 3 (ipykernel)",
   "language": "python",
   "name": "python3"
  },
  "language_info": {
   "codemirror_mode": {
    "name": "ipython",
    "version": 3
   },
   "file_extension": ".py",
   "mimetype": "text/x-python",
   "name": "python",
   "nbconvert_exporter": "python",
   "pygments_lexer": "ipython3",
   "version": "3.7.9"
  }
 },
 "nbformat": 4,
 "nbformat_minor": 5
}
